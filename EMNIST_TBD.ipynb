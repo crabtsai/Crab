{
 "cells": [
  {
   "cell_type": "markdown",
   "metadata": {},
   "source": [
    "### Dependencies"
   ]
  },
  {
   "cell_type": "code",
   "execution_count": 162,
   "metadata": {},
   "outputs": [],
   "source": [
    "# Visualization Dependencies\n",
    "from IPython.display import Image, SVG\n",
    "import seaborn as sns\n",
    "\n",
    "# Filepaths, Numpy, Tensorflow\n",
    "import os\n",
    "import numpy as np\n",
    "import tensorflow as tf\n",
    "\n",
    "# Keras\n",
    "from sklearn.preprocessing import MinMaxScaler\n",
    "from tensorflow import keras\n",
    "from tensorflow.keras.utils import to_categorical\n",
    "from tensorflow.keras.layers import Dense, Dropout, Flatten\n",
    "from tensorflow.keras.layers import Conv2D, MaxPooling2D\n",
    "from tensorflow.keras import backend as K\n",
    "from tensorflow.keras.datasets import mnist\n",
    "from sklearn.model_selection import train_test_split\n",
    "from sklearn.metrics import confusion_matrix\n",
    "\n",
    "#ignore warning messages \n",
    "import warnings\n",
    "warnings.filterwarnings('ignore') \n",
    "\n",
    "sns.set()"
   ]
  },
  {
   "cell_type": "markdown",
   "metadata": {},
   "source": [
    "### Import and Shape Data"
   ]
  },
  {
   "cell_type": "code",
   "execution_count": 163,
   "metadata": {},
   "outputs": [
    {
     "name": "stdout",
     "output_type": "stream",
     "text": [
      "Requirement already satisfied: emnist in c:\\users\\user\\anaconda3\\lib\\site-packages (0.0)\n",
      "Requirement already satisfied: numpy in c:\\users\\user\\anaconda3\\lib\\site-packages (from emnist) (1.24.3)\n",
      "Requirement already satisfied: requests in c:\\users\\user\\anaconda3\\lib\\site-packages (from emnist) (2.31.0)\n",
      "Requirement already satisfied: tqdm in c:\\users\\user\\anaconda3\\lib\\site-packages (from emnist) (4.65.0)\n",
      "Requirement already satisfied: charset-normalizer<4,>=2 in c:\\users\\user\\anaconda3\\lib\\site-packages (from requests->emnist) (2.0.4)\n",
      "Requirement already satisfied: idna<4,>=2.5 in c:\\users\\user\\anaconda3\\lib\\site-packages (from requests->emnist) (3.4)\n",
      "Requirement already satisfied: urllib3<3,>=1.21.1 in c:\\users\\user\\anaconda3\\lib\\site-packages (from requests->emnist) (1.26.16)\n",
      "Requirement already satisfied: certifi>=2017.4.17 in c:\\users\\user\\anaconda3\\lib\\site-packages (from requests->emnist) (2023.7.22)\n",
      "Requirement already satisfied: colorama in c:\\users\\user\\anaconda3\\lib\\site-packages (from tqdm->emnist) (0.4.6)\n"
     ]
    }
   ],
   "source": [
    "!pip install emnist"
   ]
  },
  {
   "cell_type": "markdown",
   "metadata": {},
   "source": [
    "## [EMNIST 說明](https://pypi.org/project/emnist/)\n",
    "## [資料集 說明](https://www.nist.gov/itl/products-and-services/emnist-dataset)"
   ]
  },
  {
   "cell_type": "code",
   "execution_count": 164,
   "metadata": {
    "scrolled": true
   },
   "outputs": [
    {
     "data": {
      "text/plain": [
       "['balanced', 'byclass', 'bymerge', 'digits', 'letters', 'mnist']"
      ]
     },
     "execution_count": 164,
     "metadata": {},
     "output_type": "execute_result"
    }
   ],
   "source": [
    "# pip install emnist\n",
    "# Import Dataset(s)\n",
    "from emnist import list_datasets\n",
    "list_datasets()"
   ]
  },
  {
   "cell_type": "markdown",
   "metadata": {},
   "source": [
    "### 步驟1：載入 MNIST 手寫A~Z資料"
   ]
  },
  {
   "cell_type": "code",
   "execution_count": 173,
   "metadata": {},
   "outputs": [],
   "source": [
    "# Working with 'letters'\n",
    "# Import \n",
    "#導入使用EMNIST Letters(包含A~Z)26類別的資料\n",
    "from emnist import extract_training_samples\n",
    "x_train, y_train = extract_training_samples('letters')\n",
    "from emnist import extract_test_samples\n",
    "x_test, y_test = extract_test_samples('letters')"
   ]
  },
  {
   "cell_type": "code",
   "execution_count": 174,
   "metadata": {},
   "outputs": [
    {
     "name": "stdout",
     "output_type": "stream",
     "text": [
      "(124800, 28, 28)\n",
      "(124800,)\n",
      "(20800, 28, 28)\n",
      "(20800,)\n"
     ]
    }
   ],
   "source": [
    "# Check shape of training and testing data\n",
    "#卻\n",
    "print(x_train.shape)\n",
    "print(y_train.shape)\n",
    "print(x_test.shape)\n",
    "print(y_test.shape)"
   ]
  },
  {
   "cell_type": "markdown",
   "metadata": {},
   "source": [
    "# Plot an image\n",
    "%matplotlib inline\n",
    "import matplotlib.pyplot as plt\n",
    "plt.imshow(images_train[1,:,:], cmap=plt.cm.Greys)"
   ]
  },
  {
   "cell_type": "code",
   "execution_count": 176,
   "metadata": {},
   "outputs": [],
   "source": [
    "y_train = y_train - 1\n",
    "y_test = y_test - 1"
   ]
  },
  {
   "cell_type": "code",
   "execution_count": 177,
   "metadata": {},
   "outputs": [
    {
     "data": {
      "text/plain": [
       "array([ 0,  1,  2,  3,  4,  5,  6,  7,  8,  9, 10, 11, 12, 13, 14, 15, 16,\n",
       "       17, 18, 19, 20, 21, 22, 23, 24, 25], dtype=uint8)"
      ]
     },
     "execution_count": 177,
     "metadata": {},
     "output_type": "execute_result"
    }
   ],
   "source": [
    "np.unique(y_train)"
   ]
  },
  {
   "cell_type": "code",
   "execution_count": 178,
   "metadata": {},
   "outputs": [
    {
     "data": {
      "text/plain": [
       "'ABCDEFGHIJKLMNOPQRSTUVWXYZ'"
      ]
     },
     "execution_count": 178,
     "metadata": {},
     "output_type": "execute_result"
    }
   ],
   "source": [
    "class_names = [chr(ord('A')+i) for i in range(26)]\n",
    "''.join(class_names)"
   ]
  },
  {
   "cell_type": "code",
   "execution_count": 180,
   "metadata": {},
   "outputs": [
    {
     "data": {
      "text/plain": [
       "array(['W', 'G', 'P', 'O', 'W', 'Q', 'M', 'K', 'V', 'X', 'J', 'N', 'R',\n",
       "       'U', 'Z', 'U', 'U', 'X', 'S', 'E', 'B', 'Y', 'I', 'E', 'J', 'U'],\n",
       "      dtype='<U1')"
      ]
     },
     "execution_count": 180,
     "metadata": {},
     "output_type": "execute_result"
    }
   ],
   "source": [
    "import numpy as np\n",
    "\n",
    "np.array(class_names)[y_train[0:26]]"
   ]
  },
  {
   "cell_type": "code",
   "execution_count": 181,
   "metadata": {},
   "outputs": [
    {
     "data": {
      "image/png": "[encoded data removed]",
      "text/plain": [
       "<Figure size 640x480 with 1 Axes>"
      ]
     },
     "metadata": {},
     "output_type": "display_data"
    }
   ],
   "source": [
    "# 顯示第1張圖片圖像\n",
    "import matplotlib.pyplot as plt\n",
    "\n",
    "# 第一筆資料\n",
    "X2 = x_train[47,:,:]\n",
    "\n",
    "# 繪製點陣圖，cmap='gray':灰階\n",
    "plt.imshow(X2.reshape(28,28), cmap='gray')\n",
    "\n",
    "# 隱藏刻度\n",
    "plt.axis('off') \n",
    "\n",
    "# 顯示圖形\n",
    "plt.show()\n"
   ]
  },
  {
   "cell_type": "code",
   "execution_count": 182,
   "metadata": {},
   "outputs": [
    {
     "data": {
      "text/plain": [
       "array([22,  6, 15, 14, 22, 16, 12, 10, 21, 23], dtype=uint8)"
      ]
     },
     "execution_count": 182,
     "metadata": {},
     "output_type": "execute_result"
    }
   ],
   "source": [
    "y_train[:10]"
   ]
  },
  {
   "cell_type": "code",
   "execution_count": 183,
   "metadata": {},
   "outputs": [
    {
     "data": {
      "image/png": "[encoded data removed]",
      "text/plain": [
       "<Figure size 640x480 with 10 Axes>"
      ]
     },
     "metadata": {},
     "output_type": "display_data"
    }
   ],
   "source": [
    "no=9\n",
    "import matplotlib.pyplot as plt\n",
    "\n",
    "fig, ax = plt.subplots(nrows=2, ncols=5, sharex=True, sharey=True,)\n",
    "ax = ax.flatten()\n",
    "for i in range(10):\n",
    "    img = x_train[y_train == no][i].reshape(28, 28)\n",
    "    ax[i].imshow(img, cmap='Greys')\n",
    "\n",
    "ax[0].set_xticks([])\n",
    "ax[0].set_yticks([])\n",
    "plt.tight_layout()\n",
    "# plt.savefig('images/12_5.png', dpi=300)\n",
    "plt.show()"
   ]
  },
  {
   "cell_type": "code",
   "execution_count": 185,
   "metadata": {},
   "outputs": [
    {
     "data": {
      "image/png": "[encoded data removed]",
      "text/plain": [
       "<Figure size 640x480 with 30 Axes>"
      ]
     },
     "metadata": {},
     "output_type": "display_data"
    }
   ],
   "source": [
    "import matplotlib.pyplot as plt\n",
    "\n",
    "fig, ax = plt.subplots(nrows=6, ncols=5, sharex=True, sharey=True,)\n",
    "ax = ax.flatten()\n",
    "for i in range(26):\n",
    "    img = x_train[y_train == i][0].reshape(28, 28)\n",
    "    ax[i].imshow(img, cmap='Greys')\n",
    "\n",
    "ax[0].set_xticks([])\n",
    "ax[0].set_yticks([])\n",
    "plt.tight_layout()\n",
    "# plt.savefig('images/12_5.png', dpi=300)\n",
    "plt.show()"
   ]
  },
  {
   "cell_type": "code",
   "execution_count": 159,
   "metadata": {},
   "outputs": [
    {
     "data": {
      "text/plain": [
       "array([[  0,   0,   0,   0,   0,   0,   0,   0,   0,   0,   0,   0,   0,\n",
       "          0,   0,   0,   0,   0,   0,   0,   0,   0,   0,   0,   0,   0,\n",
       "          0,   0],\n",
       "       [  0,   0,   0,   0,   0,   0,   0,   0,   2,   2,   2,   4,   4,\n",
       "          4,   4,   0,   0,   0,   0,   0,   0,   0,   0,   0,   0,   0,\n",
       "          0,   0],\n",
       "       [  0,   0,   0,   0,   0,   1,  34,  84, 170, 173, 174, 217, 217,\n",
       "        217, 203, 129, 114,  38,  21,   4,   2,   0,   0,   0,   0,   0,\n",
       "          0,   0],\n",
       "       [  0,   0,   0,   0,   0,  19, 201, 233, 251, 252, 252, 254, 254,\n",
       "        254, 254, 250, 245, 216, 172, 125,  82,  34,   1,   0,   0,   0,\n",
       "          0,   0],\n",
       "       [  0,   0,   0,   0,   0,   8, 207, 253, 254, 254, 254, 254, 254,\n",
       "        254, 255, 255, 255, 254, 254, 254, 252, 243, 123,  22,   0,   0,\n",
       "          0,   0],\n",
       "       [  0,   0,   0,   0,   0,   0,  90, 218, 233, 217, 217, 217, 222,\n",
       "        249, 250, 250, 252, 254, 254, 255, 254, 254, 232, 126,   2,   0,\n",
       "          0,   0],\n",
       "       [  0,   0,   0,   0,   0,   0,   1,  19,  20,   4,   4,   4,   9,\n",
       "         37,  37,  39,  82, 148, 236, 255, 255, 255, 253, 202,   4,   0,\n",
       "          0,   0],\n",
       "       [  0,   0,   0,   0,   0,   0,   0,   0,   0,   0,   0,   0,   0,\n",
       "          0,   0,   0,   3, 100, 235, 255, 254, 254, 232,  95,   0,   0,\n",
       "          0,   0],\n",
       "       [  0,   0,   0,   0,   0,   0,   0,   0,   0,   0,   0,   0,   0,\n",
       "          0,   0,   3,  48, 244, 254, 254, 253, 221,  78,   7,   0,   0,\n",
       "          0,   0],\n",
       "       [  0,   0,   0,   0,   0,   0,   0,   0,   0,   0,   0,   0,   0,\n",
       "          0,   3,  79, 176, 254, 254, 251, 218,  91,   3,   0,   0,   0,\n",
       "          0,   0],\n",
       "       [  0,   0,   0,   0,   0,   0,   0,   0,   0,   0,   0,   0,   0,\n",
       "          6, 111, 247, 254, 254, 250, 100,  22,   1,   0,   0,   0,   0,\n",
       "          0,   0],\n",
       "       [  0,   0,   0,   0,   0,   0,   0,   0,   0,   0,   0,   0,   1,\n",
       "         79, 189, 254, 254, 246, 175,  20,   0,   0,   0,   0,   0,   0,\n",
       "          0,   0],\n",
       "       [  0,   0,   0,   0,   0,   0,   0,   0,   0,   0,   0,   7,  90,\n",
       "        245, 254, 254, 253, 127,  10,   0,   0,   0,   0,   0,   0,   0,\n",
       "          0,   0],\n",
       "       [  0,   0,   0,   0,   0,   0,   0,   0,   0,   0,   0,  36, 203,\n",
       "        254, 254, 251, 218,  33,   0,   0,   0,   0,   0,   0,   0,   0,\n",
       "          0,   0],\n",
       "       [  0,   0,   0,   0,   0,   0,   0,   0,   0,   7,  90, 221, 249,\n",
       "        254, 251, 131,  23,   0,   0,   0,   0,   0,   0,   0,   0,   0,\n",
       "          0,   0],\n",
       "       [  0,   0,   0,   0,   0,   0,   0,   0,   0,  59, 207, 254, 254,\n",
       "        250, 187,  32,   0,   0,   0,   0,   0,   0,   0,   0,   0,   0,\n",
       "          0,   0],\n",
       "       [  0,   0,   0,   0,   0,   0,   0,   2,  66, 232, 254, 254, 245,\n",
       "         95,  20,   0,   0,   0,   0,   0,   0,   0,   0,   0,   0,   0,\n",
       "          0,   0],\n",
       "       [  0,   0,   0,   0,   0,   0,   0,  11, 139, 254, 254, 247, 164,\n",
       "          9,   0,   0,   0,   0,   0,   0,   0,   0,   0,   0,   0,   0,\n",
       "          0,   0],\n",
       "       [  0,   0,   0,   0,   0,   0,  24, 131, 244, 254, 254, 202,  34,\n",
       "          0,   0,   0,   0,   0,   0,   0,   0,   0,   0,   0,   0,   0,\n",
       "          0,   0],\n",
       "       [  0,   0,   0,   0,   0,  20, 170, 234, 254, 254, 236,  79,   7,\n",
       "          0,   0,   0,   0,   0,   0,   0,   0,   0,   0,   0,   0,   0,\n",
       "          0,   0],\n",
       "       [  0,   0,   0,   0,  22, 159, 254, 254, 255, 254, 236, 129, 127,\n",
       "        125,  82,   8,   0,   0,   0,   0,   0,   0,   0,   0,   0,   0,\n",
       "          0,   0],\n",
       "       [  0,   0,   0,   0,  81, 232, 254, 255, 255, 254, 254, 250, 250,\n",
       "        249, 232, 127,  51,  32,   9,   0,   0,   0,   0,   0,   0,   0,\n",
       "          0,   0],\n",
       "       [  0,   0,   0,   0, 125, 249, 254, 255, 255, 255, 255, 255, 255,\n",
       "        255, 254, 254, 250, 245, 220, 109, 115, 109,   4,   0,   0,   0,\n",
       "          0,   0],\n",
       "       [  0,   0,   0,   0,  77, 206, 253, 254, 254, 254, 254, 254, 254,\n",
       "        254, 254, 255, 255, 254, 254, 239, 245, 232,  79,   7,   0,   0,\n",
       "          0,   0],\n",
       "       [  0,   0,   0,   0,   0,  10, 113, 127, 127, 129, 170, 140, 129,\n",
       "        203, 217, 229, 234, 250, 250, 253, 254, 254, 213,  36,   0,   0,\n",
       "          0,   0],\n",
       "       [  0,   0,   0,   0,   0,   0,   4,   4,   4,   5,  20,   9,   5,\n",
       "         32,  39,  70,  84, 127, 140, 184, 205, 217, 153,  20,   0,   0,\n",
       "          0,   0],\n",
       "       [  0,   0,   0,   0,   0,   0,   0,   0,   0,   0,   0,   0,   0,\n",
       "          0,   0,   0,   0,   0,   0,   3,   4,   4,   2,   0,   0,   0,\n",
       "          0,   0],\n",
       "       [  0,   0,   0,   0,   0,   0,   0,   0,   0,   0,   0,   0,   0,\n",
       "          0,   0,   0,   0,   0,   0,   0,   0,   0,   0,   0,   0,   0,\n",
       "          0,   0]], dtype=uint8)"
      ]
     },
     "execution_count": 159,
     "metadata": {},
     "output_type": "execute_result"
    }
   ],
   "source": [
    "# 顯示第1張圖片內含值\n",
    "x_train[0]"
   ]
  },
  {
   "cell_type": "markdown",
   "metadata": {},
   "source": [
    "## 步驟2：資料清理，此步驟無需進行"
   ]
  },
  {
   "cell_type": "markdown",
   "metadata": {},
   "source": [
    "## 步驟3：進行特徵工程，將特徵縮放成(0, 1)之間"
   ]
  },
  {
   "cell_type": "code",
   "execution_count": 186,
   "metadata": {},
   "outputs": [
    {
     "data": {
      "text/plain": [
       "array([[0.        , 0.        , 0.        , 0.        , 0.        ,\n",
       "        0.        , 0.        , 0.        , 0.        , 0.        ,\n",
       "        0.        , 0.        , 0.        , 0.        , 0.        ,\n",
       "        0.        , 0.        , 0.        , 0.        , 0.        ,\n",
       "        0.        , 0.        , 0.        , 0.        , 0.        ,\n",
       "        0.        , 0.        , 0.        ],\n",
       "       [0.        , 0.        , 0.        , 0.        , 0.01176471,\n",
       "        0.01568627, 0.        , 0.        , 0.        , 0.        ,\n",
       "        0.        , 0.        , 0.        , 0.        , 0.        ,\n",
       "        0.        , 0.        , 0.        , 0.        , 0.        ,\n",
       "        0.        , 0.        , 0.        , 0.        , 0.        ,\n",
       "        0.        , 0.        , 0.        ],\n",
       "       [0.        , 0.        , 0.        , 0.07843137, 0.42745098,\n",
       "        0.44705882, 0.17647059, 0.        , 0.        , 0.        ,\n",
       "        0.        , 0.        , 0.        , 0.        , 0.        ,\n",
       "        0.        , 0.        , 0.        , 0.        , 0.        ,\n",
       "        0.        , 0.        , 0.        , 0.        , 0.        ,\n",
       "        0.        , 0.        , 0.        ],\n",
       "       [0.        , 0.        , 0.        , 0.44705882, 0.96078431,\n",
       "        0.99215686, 0.83921569, 0.01960784, 0.        , 0.        ,\n",
       "        0.        , 0.        , 0.        , 0.07843137, 0.39215686,\n",
       "        0.12941176, 0.00392157, 0.        , 0.        , 0.        ,\n",
       "        0.        , 0.        , 0.        , 0.        , 0.        ,\n",
       "        0.        , 0.        , 0.        ],\n",
       "       [0.        , 0.        , 0.        , 0.49019608, 0.97647059,\n",
       "        0.99607843, 0.91372549, 0.08627451, 0.        , 0.        ,\n",
       "        0.        , 0.        , 0.03921569, 0.48235294, 0.93333333,\n",
       "        0.63921569, 0.12941176, 0.        , 0.        , 0.        ,\n",
       "        0.        , 0.00784314, 0.01568627, 0.01568627, 0.        ,\n",
       "        0.        , 0.        , 0.        ],\n",
       "       [0.        , 0.        , 0.        , 0.32156863, 0.91372549,\n",
       "        0.99607843, 0.98431373, 0.32156863, 0.00784314, 0.        ,\n",
       "        0.        , 0.01176471, 0.30980392, 0.8627451 , 0.99607843,\n",
       "        0.95686275, 0.49411765, 0.        , 0.        , 0.        ,\n",
       "        0.01176471, 0.30196078, 0.49019608, 0.44313725, 0.03137255,\n",
       "        0.        , 0.        , 0.        ],\n",
       "       [0.        , 0.        , 0.        , 0.14509804, 0.85098039,\n",
       "        0.99607843, 0.99607843, 0.50196078, 0.01960784, 0.        ,\n",
       "        0.        , 0.13333333, 0.8       , 0.99607843, 1.        ,\n",
       "        0.99607843, 0.84705882, 0.01960784, 0.        , 0.08627451,\n",
       "        0.60392157, 0.96862745, 0.99607843, 0.99215686, 0.43529412,\n",
       "        0.01176471, 0.        , 0.        ],\n",
       "       [0.        , 0.        , 0.        , 0.14509804, 0.85098039,\n",
       "        0.99607843, 0.99607843, 0.62745098, 0.0627451 , 0.        ,\n",
       "        0.01176471, 0.32941176, 0.91372549, 0.99607843, 1.        ,\n",
       "        0.99607843, 0.91372549, 0.08627451, 0.03921569, 0.37254902,\n",
       "        0.90980392, 0.99607843, 0.99607843, 0.96470588, 0.30196078,\n",
       "        0.00784314, 0.        , 0.        ],\n",
       "       [0.        , 0.        , 0.        , 0.15294118, 0.85098039,\n",
       "        0.99607843, 0.99607843, 0.72156863, 0.09803922, 0.        ,\n",
       "        0.13333333, 0.68627451, 0.98431373, 0.99607843, 1.        ,\n",
       "        0.99607843, 0.98039216, 0.32156863, 0.50196078, 0.86666667,\n",
       "        0.99215686, 1.        , 0.98823529, 0.69411765, 0.03137255,\n",
       "        0.        , 0.        , 0.        ],\n",
       "       [0.        , 0.        , 0.        , 0.45098039, 0.96078431,\n",
       "        0.99607843, 0.99607843, 0.85098039, 0.14509804, 0.03529412,\n",
       "        0.68627451, 0.98431373, 0.99607843, 1.        , 1.        ,\n",
       "        1.        , 0.99607843, 0.98431373, 0.99607843, 0.99607843,\n",
       "        0.99607843, 0.99607843, 0.90980392, 0.42745098, 0.        ,\n",
       "        0.        , 0.        , 0.        ],\n",
       "       [0.        , 0.        , 0.00392157, 0.61568627, 0.98431373,\n",
       "        0.99607843, 1.        , 0.85098039, 0.15686275, 0.30196078,\n",
       "        0.96470588, 0.99607843, 1.        , 1.        , 1.        ,\n",
       "        1.        , 1.        , 1.        , 1.        , 1.        ,\n",
       "        0.99607843, 0.94901961, 0.51372549, 0.08627451, 0.        ,\n",
       "        0.        , 0.        , 0.        ],\n",
       "       [0.        , 0.        , 0.        , 0.36862745, 0.91764706,\n",
       "        0.99607843, 1.        , 0.85490196, 0.19607843, 0.54901961,\n",
       "        0.99607843, 0.99607843, 1.        , 1.        , 1.        ,\n",
       "        1.        , 1.        , 1.        , 1.        , 0.99607843,\n",
       "        0.98823529, 0.51372549, 0.1254902 , 0.        , 0.        ,\n",
       "        0.        , 0.        , 0.        ],\n",
       "       [0.        , 0.        , 0.        , 0.08235294, 0.6745098 ,\n",
       "        0.98823529, 1.        , 0.97647059, 0.89019608, 0.96862745,\n",
       "        0.99607843, 0.99215686, 0.9372549 , 0.97254902, 0.99607843,\n",
       "        1.        , 1.        , 1.        , 0.99607843, 0.99215686,\n",
       "        0.81176471, 0.03529412, 0.        , 0.        , 0.        ,\n",
       "        0.        , 0.        , 0.        ],\n",
       "       [0.        , 0.        , 0.        , 0.03921569, 0.55686275,\n",
       "        0.98431373, 1.        , 0.99607843, 0.99607843, 0.99607843,\n",
       "        0.99607843, 0.91764706, 0.45490196, 0.64705882, 0.99215686,\n",
       "        0.99607843, 1.        , 1.        , 0.99607843, 0.91764706,\n",
       "        0.37254902, 0.        , 0.        , 0.        , 0.        ,\n",
       "        0.        , 0.        , 0.        ],\n",
       "       [0.        , 0.        , 0.        , 0.1254902 , 0.79607843,\n",
       "        0.99607843, 1.        , 1.        , 1.        , 0.99607843,\n",
       "        0.99215686, 0.79215686, 0.1372549 , 0.14509804, 0.92156863,\n",
       "        0.99607843, 1.        , 1.        , 0.99607843, 0.85098039,\n",
       "        0.15294118, 0.        , 0.        , 0.        , 0.        ,\n",
       "        0.        , 0.        , 0.        ],\n",
       "       [0.        , 0.        , 0.        , 0.14509804, 0.85098039,\n",
       "        0.99607843, 1.        , 1.        , 1.        , 0.99607843,\n",
       "        0.86666667, 0.35686275, 0.02745098, 0.08235294, 0.91764706,\n",
       "        0.99607843, 1.        , 1.        , 0.99607843, 0.84313725,\n",
       "        0.14509804, 0.        , 0.        , 0.        , 0.        ,\n",
       "        0.        , 0.        , 0.        ],\n",
       "       [0.        , 0.        , 0.        , 0.14509804, 0.85098039,\n",
       "        0.99607843, 1.        , 1.        , 0.99607843, 0.99607843,\n",
       "        0.45098039, 0.01568627, 0.        , 0.1254902 , 0.96078431,\n",
       "        0.99607843, 1.        , 0.99607843, 0.96470588, 0.49803922,\n",
       "        0.03137255, 0.        , 0.        , 0.        , 0.        ,\n",
       "        0.        , 0.        , 0.        ],\n",
       "       [0.        , 0.        , 0.        , 0.14509804, 0.85098039,\n",
       "        0.99607843, 1.        , 1.        , 0.99607843, 0.95686275,\n",
       "        0.18039216, 0.        , 0.        , 0.03529412, 0.87058824,\n",
       "        0.99607843, 1.        , 0.99607843, 0.81568627, 0.18039216,\n",
       "        0.        , 0.        , 0.        , 0.        , 0.        ,\n",
       "        0.        , 0.        , 0.        ],\n",
       "       [0.        , 0.        , 0.        , 0.14509804, 0.85098039,\n",
       "        0.99607843, 1.        , 1.        , 0.98823529, 0.69411765,\n",
       "        0.02745098, 0.        , 0.        , 0.01568627, 0.85098039,\n",
       "        0.99607843, 1.        , 0.98039216, 0.54901961, 0.03529412,\n",
       "        0.        , 0.        , 0.        , 0.        , 0.        ,\n",
       "        0.        , 0.        , 0.        ],\n",
       "       [0.        , 0.        , 0.        , 0.14509804, 0.85098039,\n",
       "        0.99607843, 1.        , 0.99607843, 0.96078431, 0.44705882,\n",
       "        0.        , 0.        , 0.        , 0.01568627, 0.85098039,\n",
       "        0.99607843, 1.        , 0.91372549, 0.32156863, 0.00784314,\n",
       "        0.        , 0.        , 0.        , 0.        , 0.        ,\n",
       "        0.        , 0.        , 0.        ],\n",
       "       [0.        , 0.        , 0.        , 0.14509804, 0.85098039,\n",
       "        0.99607843, 1.        , 0.99607843, 0.8627451 , 0.19607843,\n",
       "        0.        , 0.        , 0.        , 0.01568627, 0.85098039,\n",
       "        0.99607843, 0.99607843, 0.85098039, 0.15294118, 0.        ,\n",
       "        0.        , 0.        , 0.        , 0.        , 0.        ,\n",
       "        0.        , 0.        , 0.        ],\n",
       "       [0.        , 0.        , 0.        , 0.14509804, 0.85098039,\n",
       "        0.99607843, 1.        , 0.96862745, 0.62352941, 0.07843137,\n",
       "        0.        , 0.        , 0.        , 0.01568627, 0.79607843,\n",
       "        0.99607843, 0.99607843, 0.79607843, 0.1254902 , 0.        ,\n",
       "        0.        , 0.        , 0.        , 0.        , 0.        ,\n",
       "        0.        , 0.        , 0.        ],\n",
       "       [0.        , 0.        , 0.        , 0.32156863, 0.91372549,\n",
       "        0.99607843, 0.99607843, 0.84705882, 0.14901961, 0.        ,\n",
       "        0.        , 0.        , 0.        , 0.        , 0.45098039,\n",
       "        0.94117647, 0.91372549, 0.43137255, 0.01568627, 0.        ,\n",
       "        0.        , 0.        , 0.        , 0.        , 0.        ,\n",
       "        0.        , 0.        , 0.        ],\n",
       "       [0.        , 0.        , 0.        , 0.49019608, 0.97647059,\n",
       "        0.99607843, 0.99607843, 0.66666667, 0.08235294, 0.        ,\n",
       "        0.        , 0.        , 0.        , 0.        , 0.1254902 ,\n",
       "        0.43529412, 0.32156863, 0.07058824, 0.        , 0.        ,\n",
       "        0.        , 0.        , 0.        , 0.        , 0.        ,\n",
       "        0.        , 0.        , 0.        ],\n",
       "       [0.        , 0.        , 0.        , 0.44705882, 0.96078431,\n",
       "        0.99607843, 0.98431373, 0.3254902 , 0.01176471, 0.        ,\n",
       "        0.        , 0.        , 0.        , 0.        , 0.        ,\n",
       "        0.01176471, 0.00784314, 0.        , 0.        , 0.        ,\n",
       "        0.        , 0.        , 0.        , 0.        , 0.        ,\n",
       "        0.        , 0.        , 0.        ],\n",
       "       [0.        , 0.        , 0.        , 0.07843137, 0.42745098,\n",
       "        0.49803922, 0.44313725, 0.02745098, 0.        , 0.        ,\n",
       "        0.        , 0.        , 0.        , 0.        , 0.        ,\n",
       "        0.        , 0.        , 0.        , 0.        , 0.        ,\n",
       "        0.        , 0.        , 0.        , 0.        , 0.        ,\n",
       "        0.        , 0.        , 0.        ],\n",
       "       [0.        , 0.        , 0.        , 0.        , 0.01176471,\n",
       "        0.01568627, 0.01568627, 0.        , 0.        , 0.        ,\n",
       "        0.        , 0.        , 0.        , 0.        , 0.        ,\n",
       "        0.        , 0.        , 0.        , 0.        , 0.        ,\n",
       "        0.        , 0.        , 0.        , 0.        , 0.        ,\n",
       "        0.        , 0.        , 0.        ],\n",
       "       [0.        , 0.        , 0.        , 0.        , 0.        ,\n",
       "        0.        , 0.        , 0.        , 0.        , 0.        ,\n",
       "        0.        , 0.        , 0.        , 0.        , 0.        ,\n",
       "        0.        , 0.        , 0.        , 0.        , 0.        ,\n",
       "        0.        , 0.        , 0.        , 0.        , 0.        ,\n",
       "        0.        , 0.        , 0.        ]])"
      ]
     },
     "execution_count": 186,
     "metadata": {},
     "output_type": "execute_result"
    }
   ],
   "source": [
    "# 特徵縮放，使用常態化(Normalization)，公式 = (x - min) / (max - min)\n",
    "# 顏色範圍：0~255，所以，公式簡化為 x / 255\n",
    "\n",
    "\n",
    "# 注意，顏色0為白色，與RGB顏色不同，(0,0,0) 為黑色。\n",
    "x_train_norm, x_test_norm = x_train / 255.0, x_test / 255.0\n",
    "x_train_norm[0]"
   ]
  },
  {
   "cell_type": "code",
   "execution_count": 187,
   "metadata": {},
   "outputs": [
    {
     "data": {
      "text/plain": [
       "array([[0.        , 0.        , 0.        , 0.        , 0.        ,\n",
       "        0.        , 0.        , 0.        , 0.        , 0.        ,\n",
       "        0.        , 0.        , 0.        , 0.        , 0.        ,\n",
       "        0.        , 0.        , 0.        , 0.        , 0.        ,\n",
       "        0.        , 0.        , 0.        , 0.        , 0.        ,\n",
       "        0.        , 0.        , 0.        ],\n",
       "       [0.        , 0.        , 0.        , 0.        , 0.01176471,\n",
       "        0.01568627, 0.        , 0.        , 0.        , 0.        ,\n",
       "        0.        , 0.        , 0.        , 0.        , 0.        ,\n",
       "        0.        , 0.        , 0.        , 0.        , 0.        ,\n",
       "        0.        , 0.        , 0.        , 0.        , 0.        ,\n",
       "        0.        , 0.        , 0.        ],\n",
       "       [0.        , 0.        , 0.        , 0.07843137, 0.42745098,\n",
       "        0.44705882, 0.17647059, 0.        , 0.        , 0.        ,\n",
       "        0.        , 0.        , 0.        , 0.        , 0.        ,\n",
       "        0.        , 0.        , 0.        , 0.        , 0.        ,\n",
       "        0.        , 0.        , 0.        , 0.        , 0.        ,\n",
       "        0.        , 0.        , 0.        ],\n",
       "       [0.        , 0.        , 0.        , 0.44705882, 0.96078431,\n",
       "        0.99215686, 0.83921569, 0.01960784, 0.        , 0.        ,\n",
       "        0.        , 0.        , 0.        , 0.07843137, 0.39215686,\n",
       "        0.12941176, 0.00392157, 0.        , 0.        , 0.        ,\n",
       "        0.        , 0.        , 0.        , 0.        , 0.        ,\n",
       "        0.        , 0.        , 0.        ],\n",
       "       [0.        , 0.        , 0.        , 0.49019608, 0.97647059,\n",
       "        0.99607843, 0.91372549, 0.08627451, 0.        , 0.        ,\n",
       "        0.        , 0.        , 0.03921569, 0.48235294, 0.93333333,\n",
       "        0.63921569, 0.12941176, 0.        , 0.        , 0.        ,\n",
       "        0.        , 0.00784314, 0.01568627, 0.01568627, 0.        ,\n",
       "        0.        , 0.        , 0.        ],\n",
       "       [0.        , 0.        , 0.        , 0.32156863, 0.91372549,\n",
       "        0.99607843, 0.98431373, 0.32156863, 0.00784314, 0.        ,\n",
       "        0.        , 0.01176471, 0.30980392, 0.8627451 , 0.99607843,\n",
       "        0.95686275, 0.49411765, 0.        , 0.        , 0.        ,\n",
       "        0.01176471, 0.30196078, 0.49019608, 0.44313725, 0.03137255,\n",
       "        0.        , 0.        , 0.        ],\n",
       "       [0.        , 0.        , 0.        , 0.14509804, 0.85098039,\n",
       "        0.99607843, 0.99607843, 0.50196078, 0.01960784, 0.        ,\n",
       "        0.        , 0.13333333, 0.8       , 0.99607843, 1.        ,\n",
       "        0.99607843, 0.84705882, 0.01960784, 0.        , 0.08627451,\n",
       "        0.60392157, 0.96862745, 0.99607843, 0.99215686, 0.43529412,\n",
       "        0.01176471, 0.        , 0.        ],\n",
       "       [0.        , 0.        , 0.        , 0.14509804, 0.85098039,\n",
       "        0.99607843, 0.99607843, 0.62745098, 0.0627451 , 0.        ,\n",
       "        0.01176471, 0.32941176, 0.91372549, 0.99607843, 1.        ,\n",
       "        0.99607843, 0.91372549, 0.08627451, 0.03921569, 0.37254902,\n",
       "        0.90980392, 0.99607843, 0.99607843, 0.96470588, 0.30196078,\n",
       "        0.00784314, 0.        , 0.        ],\n",
       "       [0.        , 0.        , 0.        , 0.15294118, 0.85098039,\n",
       "        0.99607843, 0.99607843, 0.72156863, 0.09803922, 0.        ,\n",
       "        0.13333333, 0.68627451, 0.98431373, 0.99607843, 1.        ,\n",
       "        0.99607843, 0.98039216, 0.32156863, 0.50196078, 0.86666667,\n",
       "        0.99215686, 1.        , 0.98823529, 0.69411765, 0.03137255,\n",
       "        0.        , 0.        , 0.        ],\n",
       "       [0.        , 0.        , 0.        , 0.45098039, 0.96078431,\n",
       "        0.99607843, 0.99607843, 0.85098039, 0.14509804, 0.03529412,\n",
       "        0.68627451, 0.98431373, 0.99607843, 1.        , 1.        ,\n",
       "        1.        , 0.99607843, 0.98431373, 0.99607843, 0.99607843,\n",
       "        0.99607843, 0.99607843, 0.90980392, 0.42745098, 0.        ,\n",
       "        0.        , 0.        , 0.        ],\n",
       "       [0.        , 0.        , 0.00392157, 0.61568627, 0.98431373,\n",
       "        0.99607843, 1.        , 0.85098039, 0.15686275, 0.30196078,\n",
       "        0.96470588, 0.99607843, 1.        , 1.        , 1.        ,\n",
       "        1.        , 1.        , 1.        , 1.        , 1.        ,\n",
       "        0.99607843, 0.94901961, 0.51372549, 0.08627451, 0.        ,\n",
       "        0.        , 0.        , 0.        ],\n",
       "       [0.        , 0.        , 0.        , 0.36862745, 0.91764706,\n",
       "        0.99607843, 1.        , 0.85490196, 0.19607843, 0.54901961,\n",
       "        0.99607843, 0.99607843, 1.        , 1.        , 1.        ,\n",
       "        1.        , 1.        , 1.        , 1.        , 0.99607843,\n",
       "        0.98823529, 0.51372549, 0.1254902 , 0.        , 0.        ,\n",
       "        0.        , 0.        , 0.        ],\n",
       "       [0.        , 0.        , 0.        , 0.08235294, 0.6745098 ,\n",
       "        0.98823529, 1.        , 0.97647059, 0.89019608, 0.96862745,\n",
       "        0.99607843, 0.99215686, 0.9372549 , 0.97254902, 0.99607843,\n",
       "        1.        , 1.        , 1.        , 0.99607843, 0.99215686,\n",
       "        0.81176471, 0.03529412, 0.        , 0.        , 0.        ,\n",
       "        0.        , 0.        , 0.        ],\n",
       "       [0.        , 0.        , 0.        , 0.03921569, 0.55686275,\n",
       "        0.98431373, 1.        , 0.99607843, 0.99607843, 0.99607843,\n",
       "        0.99607843, 0.91764706, 0.45490196, 0.64705882, 0.99215686,\n",
       "        0.99607843, 1.        , 1.        , 0.99607843, 0.91764706,\n",
       "        0.37254902, 0.        , 0.        , 0.        , 0.        ,\n",
       "        0.        , 0.        , 0.        ],\n",
       "       [0.        , 0.        , 0.        , 0.1254902 , 0.79607843,\n",
       "        0.99607843, 1.        , 1.        , 1.        , 0.99607843,\n",
       "        0.99215686, 0.79215686, 0.1372549 , 0.14509804, 0.92156863,\n",
       "        0.99607843, 1.        , 1.        , 0.99607843, 0.85098039,\n",
       "        0.15294118, 0.        , 0.        , 0.        , 0.        ,\n",
       "        0.        , 0.        , 0.        ],\n",
       "       [0.        , 0.        , 0.        , 0.14509804, 0.85098039,\n",
       "        0.99607843, 1.        , 1.        , 1.        , 0.99607843,\n",
       "        0.86666667, 0.35686275, 0.02745098, 0.08235294, 0.91764706,\n",
       "        0.99607843, 1.        , 1.        , 0.99607843, 0.84313725,\n",
       "        0.14509804, 0.        , 0.        , 0.        , 0.        ,\n",
       "        0.        , 0.        , 0.        ],\n",
       "       [0.        , 0.        , 0.        , 0.14509804, 0.85098039,\n",
       "        0.99607843, 1.        , 1.        , 0.99607843, 0.99607843,\n",
       "        0.45098039, 0.01568627, 0.        , 0.1254902 , 0.96078431,\n",
       "        0.99607843, 1.        , 0.99607843, 0.96470588, 0.49803922,\n",
       "        0.03137255, 0.        , 0.        , 0.        , 0.        ,\n",
       "        0.        , 0.        , 0.        ],\n",
       "       [0.        , 0.        , 0.        , 0.14509804, 0.85098039,\n",
       "        0.99607843, 1.        , 1.        , 0.99607843, 0.95686275,\n",
       "        0.18039216, 0.        , 0.        , 0.03529412, 0.87058824,\n",
       "        0.99607843, 1.        , 0.99607843, 0.81568627, 0.18039216,\n",
       "        0.        , 0.        , 0.        , 0.        , 0.        ,\n",
       "        0.        , 0.        , 0.        ],\n",
       "       [0.        , 0.        , 0.        , 0.14509804, 0.85098039,\n",
       "        0.99607843, 1.        , 1.        , 0.98823529, 0.69411765,\n",
       "        0.02745098, 0.        , 0.        , 0.01568627, 0.85098039,\n",
       "        0.99607843, 1.        , 0.98039216, 0.54901961, 0.03529412,\n",
       "        0.        , 0.        , 0.        , 0.        , 0.        ,\n",
       "        0.        , 0.        , 0.        ],\n",
       "       [0.        , 0.        , 0.        , 0.14509804, 0.85098039,\n",
       "        0.99607843, 1.        , 0.99607843, 0.96078431, 0.44705882,\n",
       "        0.        , 0.        , 0.        , 0.01568627, 0.85098039,\n",
       "        0.99607843, 1.        , 0.91372549, 0.32156863, 0.00784314,\n",
       "        0.        , 0.        , 0.        , 0.        , 0.        ,\n",
       "        0.        , 0.        , 0.        ],\n",
       "       [0.        , 0.        , 0.        , 0.14509804, 0.85098039,\n",
       "        0.99607843, 1.        , 0.99607843, 0.8627451 , 0.19607843,\n",
       "        0.        , 0.        , 0.        , 0.01568627, 0.85098039,\n",
       "        0.99607843, 0.99607843, 0.85098039, 0.15294118, 0.        ,\n",
       "        0.        , 0.        , 0.        , 0.        , 0.        ,\n",
       "        0.        , 0.        , 0.        ],\n",
       "       [0.        , 0.        , 0.        , 0.14509804, 0.85098039,\n",
       "        0.99607843, 1.        , 0.96862745, 0.62352941, 0.07843137,\n",
       "        0.        , 0.        , 0.        , 0.01568627, 0.79607843,\n",
       "        0.99607843, 0.99607843, 0.79607843, 0.1254902 , 0.        ,\n",
       "        0.        , 0.        , 0.        , 0.        , 0.        ,\n",
       "        0.        , 0.        , 0.        ],\n",
       "       [0.        , 0.        , 0.        , 0.32156863, 0.91372549,\n",
       "        0.99607843, 0.99607843, 0.84705882, 0.14901961, 0.        ,\n",
       "        0.        , 0.        , 0.        , 0.        , 0.45098039,\n",
       "        0.94117647, 0.91372549, 0.43137255, 0.01568627, 0.        ,\n",
       "        0.        , 0.        , 0.        , 0.        , 0.        ,\n",
       "        0.        , 0.        , 0.        ],\n",
       "       [0.        , 0.        , 0.        , 0.49019608, 0.97647059,\n",
       "        0.99607843, 0.99607843, 0.66666667, 0.08235294, 0.        ,\n",
       "        0.        , 0.        , 0.        , 0.        , 0.1254902 ,\n",
       "        0.43529412, 0.32156863, 0.07058824, 0.        , 0.        ,\n",
       "        0.        , 0.        , 0.        , 0.        , 0.        ,\n",
       "        0.        , 0.        , 0.        ],\n",
       "       [0.        , 0.        , 0.        , 0.44705882, 0.96078431,\n",
       "        0.99607843, 0.98431373, 0.3254902 , 0.01176471, 0.        ,\n",
       "        0.        , 0.        , 0.        , 0.        , 0.        ,\n",
       "        0.01176471, 0.00784314, 0.        , 0.        , 0.        ,\n",
       "        0.        , 0.        , 0.        , 0.        , 0.        ,\n",
       "        0.        , 0.        , 0.        ],\n",
       "       [0.        , 0.        , 0.        , 0.07843137, 0.42745098,\n",
       "        0.49803922, 0.44313725, 0.02745098, 0.        , 0.        ,\n",
       "        0.        , 0.        , 0.        , 0.        , 0.        ,\n",
       "        0.        , 0.        , 0.        , 0.        , 0.        ,\n",
       "        0.        , 0.        , 0.        , 0.        , 0.        ,\n",
       "        0.        , 0.        , 0.        ],\n",
       "       [0.        , 0.        , 0.        , 0.        , 0.01176471,\n",
       "        0.01568627, 0.01568627, 0.        , 0.        , 0.        ,\n",
       "        0.        , 0.        , 0.        , 0.        , 0.        ,\n",
       "        0.        , 0.        , 0.        , 0.        , 0.        ,\n",
       "        0.        , 0.        , 0.        , 0.        , 0.        ,\n",
       "        0.        , 0.        , 0.        ],\n",
       "       [0.        , 0.        , 0.        , 0.        , 0.        ,\n",
       "        0.        , 0.        , 0.        , 0.        , 0.        ,\n",
       "        0.        , 0.        , 0.        , 0.        , 0.        ,\n",
       "        0.        , 0.        , 0.        , 0.        , 0.        ,\n",
       "        0.        , 0.        , 0.        , 0.        , 0.        ,\n",
       "        0.        , 0.        , 0.        ]])"
      ]
     },
     "execution_count": 187,
     "metadata": {},
     "output_type": "execute_result"
    }
   ],
   "source": [
    "x_train_norm[0]"
   ]
  },
  {
   "cell_type": "markdown",
   "metadata": {},
   "source": [
    "\n",
    "\n",
    "## 步驟4：資料分割，此步驟無需進行，載入MNIST資料時，已經切割好了"
   ]
  },
  {
   "cell_type": "markdown",
   "metadata": {},
   "source": [
    "## 步驟5：建立模型結構"
   ]
  },
  {
   "cell_type": "code",
   "execution_count": 188,
   "metadata": {},
   "outputs": [],
   "source": [
    "import tensorflow as tf\n",
    "from tensorflow.keras.models import Sequential\n",
    "from tensorflow.keras.layers import Conv2D, MaxPooling2D, Flatten, Dense, Dropout\n",
    "\n",
    "# 建立模型\n",
    "model = Sequential([\n",
    "    Conv2D(filters=32, kernel_size=3, activation='relu', input_shape=(28, 28, 1)),\n",
    "    MaxPooling2D(pool_size=2),\n",
    "    Conv2D(filters=64, kernel_size=3, activation='relu'),\n",
    "    MaxPooling2D(pool_size=2),\n",
    "    Flatten(),\n",
    "    Dense(units=64, activation='relu'),\n",
    "    Dropout(0.5),\n",
    "    Dense(units=26, activation='softmax')\n",
    "])\n"
   ]
  },
  {
   "cell_type": "code",
   "execution_count": 189,
   "metadata": {},
   "outputs": [],
   "source": [
    "# 設定優化器(optimizer)、損失函數(loss)、效能衡量指標(metrics)的類別\n",
    "model.compile(optimizer='adam',\n",
    "              loss='sparse_categorical_crossentropy',\n",
    "              metrics=['accuracy'])"
   ]
  },
  {
   "cell_type": "code",
   "execution_count": 190,
   "metadata": {},
   "outputs": [
    {
     "name": "stdout",
     "output_type": "stream",
     "text": [
      "Model: \"sequential_14\"\n",
      "_________________________________________________________________\n",
      " Layer (type)                Output Shape              Param #   \n",
      "=================================================================\n",
      " conv2d_21 (Conv2D)          (None, 26, 26, 32)        320       \n",
      "                                                                 \n",
      " max_pooling2d_14 (MaxPooli  (None, 13, 13, 32)        0         \n",
      " ng2D)                                                           \n",
      "                                                                 \n",
      " conv2d_22 (Conv2D)          (None, 11, 11, 64)        18496     \n",
      "                                                                 \n",
      " max_pooling2d_15 (MaxPooli  (None, 5, 5, 64)          0         \n",
      " ng2D)                                                           \n",
      "                                                                 \n",
      " flatten_14 (Flatten)        (None, 1600)              0         \n",
      "                                                                 \n",
      " dense_26 (Dense)            (None, 64)                102464    \n",
      "                                                                 \n",
      " dropout_11 (Dropout)        (None, 64)                0         \n",
      "                                                                 \n",
      " dense_27 (Dense)            (None, 26)                1690      \n",
      "                                                                 \n",
      "=================================================================\n",
      "Total params: 122970 (480.35 KB)\n",
      "Trainable params: 122970 (480.35 KB)\n",
      "Non-trainable params: 0 (0.00 Byte)\n",
      "_________________________________________________________________\n"
     ]
    }
   ],
   "source": [
    "model.summary()"
   ]
  },
  {
   "cell_type": "markdown",
   "metadata": {},
   "source": [
    "## 步驟6：結合訓練資料及模型，進行模型訓練"
   ]
  },
  {
   "cell_type": "code",
   "execution_count": 126,
   "metadata": {},
   "outputs": [],
   "source": []
  },
  {
   "cell_type": "code",
   "execution_count": 192,
   "metadata": {},
   "outputs": [
    {
     "name": "stdout",
     "output_type": "stream",
     "text": [
      "Epoch 1/100\n",
      "100/100 [==============================] - 26s 257ms/step - loss: 0.4798 - accuracy: 0.8471 - val_loss: 0.2732 - val_accuracy: 0.9131\n",
      "Epoch 2/100\n",
      "100/100 [==============================] - 27s 265ms/step - loss: 0.4674 - accuracy: 0.8502 - val_loss: 0.2629 - val_accuracy: 0.9152\n",
      "Epoch 3/100\n",
      "100/100 [==============================] - 27s 267ms/step - loss: 0.4489 - accuracy: 0.8569 - val_loss: 0.2606 - val_accuracy: 0.9175\n",
      "Epoch 4/100\n",
      "100/100 [==============================] - 28s 277ms/step - loss: 0.4396 - accuracy: 0.8593 - val_loss: 0.2598 - val_accuracy: 0.9167\n",
      "Epoch 5/100\n",
      "100/100 [==============================] - 28s 281ms/step - loss: 0.4290 - accuracy: 0.8629 - val_loss: 0.2518 - val_accuracy: 0.9192\n",
      "Epoch 6/100\n",
      "100/100 [==============================] - 28s 283ms/step - loss: 0.4210 - accuracy: 0.8656 - val_loss: 0.2459 - val_accuracy: 0.9212\n",
      "Epoch 7/100\n",
      "100/100 [==============================] - 28s 282ms/step - loss: 0.4106 - accuracy: 0.8686 - val_loss: 0.2436 - val_accuracy: 0.9210\n",
      "Epoch 8/100\n",
      "100/100 [==============================] - 28s 280ms/step - loss: 0.4023 - accuracy: 0.8704 - val_loss: 0.2415 - val_accuracy: 0.9234\n",
      "Epoch 9/100\n",
      "100/100 [==============================] - 28s 279ms/step - loss: 0.3958 - accuracy: 0.8725 - val_loss: 0.2411 - val_accuracy: 0.9213\n",
      "Epoch 10/100\n",
      "100/100 [==============================] - 28s 280ms/step - loss: 0.3824 - accuracy: 0.8757 - val_loss: 0.2397 - val_accuracy: 0.9229\n",
      "Epoch 11/100\n",
      "100/100 [==============================] - 28s 280ms/step - loss: 0.3820 - accuracy: 0.8764 - val_loss: 0.2352 - val_accuracy: 0.9238\n",
      "Epoch 12/100\n",
      "100/100 [==============================] - 29s 287ms/step - loss: 0.3715 - accuracy: 0.8800 - val_loss: 0.2303 - val_accuracy: 0.9260\n",
      "Epoch 13/100\n",
      "100/100 [==============================] - 28s 279ms/step - loss: 0.3654 - accuracy: 0.8816 - val_loss: 0.2260 - val_accuracy: 0.9273\n",
      "Epoch 14/100\n",
      "100/100 [==============================] - 28s 279ms/step - loss: 0.3635 - accuracy: 0.8815 - val_loss: 0.2319 - val_accuracy: 0.9254\n",
      "Epoch 15/100\n",
      "100/100 [==============================] - 28s 280ms/step - loss: 0.3530 - accuracy: 0.8845 - val_loss: 0.2291 - val_accuracy: 0.9260\n",
      "Epoch 16/100\n",
      "100/100 [==============================] - 28s 277ms/step - loss: 0.3511 - accuracy: 0.8851 - val_loss: 0.2265 - val_accuracy: 0.9284\n",
      "Epoch 17/100\n",
      "100/100 [==============================] - 28s 279ms/step - loss: 0.3464 - accuracy: 0.8867 - val_loss: 0.2235 - val_accuracy: 0.9277\n",
      "Epoch 18/100\n",
      "100/100 [==============================] - 28s 280ms/step - loss: 0.3392 - accuracy: 0.8883 - val_loss: 0.2229 - val_accuracy: 0.9288\n",
      "Epoch 19/100\n",
      "100/100 [==============================] - 28s 277ms/step - loss: 0.3354 - accuracy: 0.8900 - val_loss: 0.2243 - val_accuracy: 0.9280\n",
      "Epoch 20/100\n",
      "100/100 [==============================] - 27s 275ms/step - loss: 0.3325 - accuracy: 0.8911 - val_loss: 0.2238 - val_accuracy: 0.9281\n",
      "Epoch 21/100\n",
      "100/100 [==============================] - 27s 270ms/step - loss: 0.3270 - accuracy: 0.8935 - val_loss: 0.2184 - val_accuracy: 0.9299\n",
      "Epoch 22/100\n",
      "100/100 [==============================] - 27s 272ms/step - loss: 0.3230 - accuracy: 0.8927 - val_loss: 0.2175 - val_accuracy: 0.9305\n",
      "Epoch 23/100\n",
      "100/100 [==============================] - 27s 267ms/step - loss: 0.3185 - accuracy: 0.8948 - val_loss: 0.2177 - val_accuracy: 0.9318\n",
      "Epoch 24/100\n",
      "100/100 [==============================] - 27s 271ms/step - loss: 0.3189 - accuracy: 0.8948 - val_loss: 0.2194 - val_accuracy: 0.9303\n",
      "Epoch 25/100\n",
      "100/100 [==============================] - 28s 277ms/step - loss: 0.3104 - accuracy: 0.8965 - val_loss: 0.2178 - val_accuracy: 0.9301\n",
      "Epoch 26/100\n",
      "100/100 [==============================] - 27s 272ms/step - loss: 0.3063 - accuracy: 0.8982 - val_loss: 0.2147 - val_accuracy: 0.9311\n",
      "Epoch 27/100\n",
      "100/100 [==============================] - 27s 271ms/step - loss: 0.3032 - accuracy: 0.8980 - val_loss: 0.2132 - val_accuracy: 0.9324\n",
      "Epoch 28/100\n",
      "100/100 [==============================] - 27s 270ms/step - loss: 0.2993 - accuracy: 0.9001 - val_loss: 0.2177 - val_accuracy: 0.9306\n",
      "Epoch 29/100\n",
      "100/100 [==============================] - 27s 271ms/step - loss: 0.2970 - accuracy: 0.8999 - val_loss: 0.2137 - val_accuracy: 0.9317\n",
      "Epoch 30/100\n",
      "100/100 [==============================] - 27s 272ms/step - loss: 0.2935 - accuracy: 0.9017 - val_loss: 0.2164 - val_accuracy: 0.9328\n",
      "Epoch 31/100\n",
      "100/100 [==============================] - 27s 273ms/step - loss: 0.2904 - accuracy: 0.9038 - val_loss: 0.2119 - val_accuracy: 0.9329\n",
      "Epoch 32/100\n",
      "100/100 [==============================] - 27s 271ms/step - loss: 0.2856 - accuracy: 0.9045 - val_loss: 0.2192 - val_accuracy: 0.9321\n",
      "Epoch 33/100\n",
      "100/100 [==============================] - 28s 278ms/step - loss: 0.2836 - accuracy: 0.9052 - val_loss: 0.2102 - val_accuracy: 0.9340\n",
      "Epoch 34/100\n",
      "100/100 [==============================] - 27s 272ms/step - loss: 0.2786 - accuracy: 0.9058 - val_loss: 0.2142 - val_accuracy: 0.9329\n",
      "Epoch 35/100\n",
      "100/100 [==============================] - 27s 272ms/step - loss: 0.2740 - accuracy: 0.9075 - val_loss: 0.2106 - val_accuracy: 0.9344\n",
      "Epoch 36/100\n",
      "100/100 [==============================] - 28s 277ms/step - loss: 0.2746 - accuracy: 0.9078 - val_loss: 0.2086 - val_accuracy: 0.9347\n",
      "Epoch 37/100\n",
      "100/100 [==============================] - 27s 273ms/step - loss: 0.2706 - accuracy: 0.9078 - val_loss: 0.2095 - val_accuracy: 0.9345\n",
      "Epoch 38/100\n",
      "100/100 [==============================] - 28s 279ms/step - loss: 0.2743 - accuracy: 0.9079 - val_loss: 0.2093 - val_accuracy: 0.9337\n",
      "Epoch 39/100\n",
      "100/100 [==============================] - 27s 268ms/step - loss: 0.2676 - accuracy: 0.9095 - val_loss: 0.2099 - val_accuracy: 0.9348\n",
      "Epoch 40/100\n",
      "100/100 [==============================] - 27s 268ms/step - loss: 0.2631 - accuracy: 0.9101 - val_loss: 0.2079 - val_accuracy: 0.9346\n",
      "Epoch 41/100\n",
      "100/100 [==============================] - 26s 262ms/step - loss: 0.2618 - accuracy: 0.9114 - val_loss: 0.2068 - val_accuracy: 0.9354\n",
      "Epoch 42/100\n",
      "100/100 [==============================] - 27s 272ms/step - loss: 0.2568 - accuracy: 0.9124 - val_loss: 0.2104 - val_accuracy: 0.9347\n",
      "Epoch 43/100\n",
      "100/100 [==============================] - 27s 271ms/step - loss: 0.2551 - accuracy: 0.9129 - val_loss: 0.2103 - val_accuracy: 0.9349\n",
      "Epoch 44/100\n",
      "100/100 [==============================] - 27s 266ms/step - loss: 0.2559 - accuracy: 0.9122 - val_loss: 0.2147 - val_accuracy: 0.9344\n",
      "Epoch 45/100\n",
      "100/100 [==============================] - 27s 274ms/step - loss: 0.2546 - accuracy: 0.9128 - val_loss: 0.2140 - val_accuracy: 0.9343\n",
      "Epoch 46/100\n",
      "100/100 [==============================] - 26s 265ms/step - loss: 0.2504 - accuracy: 0.9129 - val_loss: 0.2110 - val_accuracy: 0.9343\n",
      "Epoch 47/100\n",
      "100/100 [==============================] - 27s 265ms/step - loss: 0.2522 - accuracy: 0.9129 - val_loss: 0.2150 - val_accuracy: 0.9339\n",
      "Epoch 48/100\n",
      "100/100 [==============================] - 27s 266ms/step - loss: 0.2463 - accuracy: 0.9155 - val_loss: 0.2099 - val_accuracy: 0.9357\n",
      "Epoch 49/100\n",
      "100/100 [==============================] - 28s 276ms/step - loss: 0.2460 - accuracy: 0.9145 - val_loss: 0.2120 - val_accuracy: 0.9353\n",
      "Epoch 50/100\n",
      "100/100 [==============================] - 27s 270ms/step - loss: 0.2437 - accuracy: 0.9156 - val_loss: 0.2163 - val_accuracy: 0.9343\n",
      "Epoch 51/100\n",
      "100/100 [==============================] - 27s 270ms/step - loss: 0.2415 - accuracy: 0.9152 - val_loss: 0.2114 - val_accuracy: 0.9355\n",
      "Epoch 52/100\n",
      "100/100 [==============================] - 27s 270ms/step - loss: 0.2408 - accuracy: 0.9159 - val_loss: 0.2121 - val_accuracy: 0.9367\n",
      "Epoch 53/100\n",
      "100/100 [==============================] - 27s 269ms/step - loss: 0.2359 - accuracy: 0.9181 - val_loss: 0.2161 - val_accuracy: 0.9350\n",
      "Epoch 54/100\n",
      "100/100 [==============================] - 27s 270ms/step - loss: 0.2367 - accuracy: 0.9179 - val_loss: 0.2160 - val_accuracy: 0.9355\n",
      "Epoch 55/100\n",
      "100/100 [==============================] - 27s 275ms/step - loss: 0.2350 - accuracy: 0.9179 - val_loss: 0.2129 - val_accuracy: 0.9363\n",
      "Epoch 56/100\n",
      "100/100 [==============================] - 28s 276ms/step - loss: 0.2327 - accuracy: 0.9197 - val_loss: 0.2088 - val_accuracy: 0.9357\n"
     ]
    },
    {
     "name": "stdout",
     "output_type": "stream",
     "text": [
      "Epoch 57/100\n",
      "100/100 [==============================] - 26s 263ms/step - loss: 0.2326 - accuracy: 0.9189 - val_loss: 0.2146 - val_accuracy: 0.9358\n",
      "Epoch 58/100\n",
      "100/100 [==============================] - 26s 263ms/step - loss: 0.2289 - accuracy: 0.9192 - val_loss: 0.2171 - val_accuracy: 0.9346\n",
      "Epoch 59/100\n",
      "100/100 [==============================] - 27s 268ms/step - loss: 0.2284 - accuracy: 0.9191 - val_loss: 0.2148 - val_accuracy: 0.9357\n",
      "Epoch 60/100\n",
      "100/100 [==============================] - 27s 271ms/step - loss: 0.2256 - accuracy: 0.9209 - val_loss: 0.2118 - val_accuracy: 0.9354\n",
      "Epoch 61/100\n",
      "100/100 [==============================] - 27s 271ms/step - loss: 0.2229 - accuracy: 0.9211 - val_loss: 0.2146 - val_accuracy: 0.9367\n",
      "Epoch 62/100\n",
      "100/100 [==============================] - 28s 277ms/step - loss: 0.2259 - accuracy: 0.9203 - val_loss: 0.2185 - val_accuracy: 0.9353\n",
      "Epoch 63/100\n",
      "100/100 [==============================] - 27s 270ms/step - loss: 0.2256 - accuracy: 0.9197 - val_loss: 0.2188 - val_accuracy: 0.9363\n",
      "Epoch 64/100\n",
      "100/100 [==============================] - 27s 271ms/step - loss: 0.2206 - accuracy: 0.9211 - val_loss: 0.2165 - val_accuracy: 0.9374\n",
      "Epoch 65/100\n",
      "100/100 [==============================] - 27s 271ms/step - loss: 0.2163 - accuracy: 0.9237 - val_loss: 0.2194 - val_accuracy: 0.9369\n",
      "Epoch 66/100\n",
      "100/100 [==============================] - 27s 274ms/step - loss: 0.2179 - accuracy: 0.9224 - val_loss: 0.2292 - val_accuracy: 0.9347\n",
      "Epoch 67/100\n",
      "100/100 [==============================] - 27s 274ms/step - loss: 0.2201 - accuracy: 0.9225 - val_loss: 0.2182 - val_accuracy: 0.9361\n",
      "Epoch 68/100\n",
      "100/100 [==============================] - 27s 274ms/step - loss: 0.2167 - accuracy: 0.9224 - val_loss: 0.2286 - val_accuracy: 0.9349\n",
      "Epoch 69/100\n",
      "100/100 [==============================] - 27s 270ms/step - loss: 0.2145 - accuracy: 0.9227 - val_loss: 0.2303 - val_accuracy: 0.9350\n",
      "Epoch 70/100\n",
      "100/100 [==============================] - 27s 270ms/step - loss: 0.2166 - accuracy: 0.9236 - val_loss: 0.2231 - val_accuracy: 0.9355\n",
      "Epoch 71/100\n",
      "100/100 [==============================] - 27s 272ms/step - loss: 0.2109 - accuracy: 0.9241 - val_loss: 0.2137 - val_accuracy: 0.9365\n",
      "Epoch 72/100\n",
      "100/100 [==============================] - 27s 271ms/step - loss: 0.2122 - accuracy: 0.9230 - val_loss: 0.2244 - val_accuracy: 0.9358\n",
      "Epoch 73/100\n",
      "100/100 [==============================] - 27s 269ms/step - loss: 0.2130 - accuracy: 0.9239 - val_loss: 0.2199 - val_accuracy: 0.9351\n",
      "Epoch 74/100\n",
      "100/100 [==============================] - 27s 271ms/step - loss: 0.2066 - accuracy: 0.9258 - val_loss: 0.2245 - val_accuracy: 0.9371\n",
      "Epoch 75/100\n",
      "100/100 [==============================] - 27s 270ms/step - loss: 0.2082 - accuracy: 0.9248 - val_loss: 0.2251 - val_accuracy: 0.9365\n",
      "Epoch 76/100\n",
      "100/100 [==============================] - 28s 276ms/step - loss: 0.2060 - accuracy: 0.9254 - val_loss: 0.2315 - val_accuracy: 0.9367\n",
      "Epoch 77/100\n",
      "100/100 [==============================] - 29s 287ms/step - loss: 0.2085 - accuracy: 0.9242 - val_loss: 0.2217 - val_accuracy: 0.9359\n",
      "Epoch 78/100\n",
      "100/100 [==============================] - 28s 284ms/step - loss: 0.2041 - accuracy: 0.9261 - val_loss: 0.2280 - val_accuracy: 0.9367\n",
      "Epoch 79/100\n",
      "100/100 [==============================] - 28s 279ms/step - loss: 0.2034 - accuracy: 0.9268 - val_loss: 0.2340 - val_accuracy: 0.9357\n",
      "Epoch 80/100\n",
      "100/100 [==============================] - 27s 274ms/step - loss: 0.2037 - accuracy: 0.9265 - val_loss: 0.2274 - val_accuracy: 0.9358\n",
      "Epoch 81/100\n",
      "100/100 [==============================] - 27s 275ms/step - loss: 0.1999 - accuracy: 0.9281 - val_loss: 0.2274 - val_accuracy: 0.9358\n",
      "Epoch 82/100\n",
      "100/100 [==============================] - 27s 274ms/step - loss: 0.2008 - accuracy: 0.9267 - val_loss: 0.2334 - val_accuracy: 0.9334\n",
      "Epoch 83/100\n",
      "100/100 [==============================] - 28s 277ms/step - loss: 0.2024 - accuracy: 0.9269 - val_loss: 0.2310 - val_accuracy: 0.9360\n",
      "Epoch 84/100\n",
      "100/100 [==============================] - 28s 280ms/step - loss: 0.1968 - accuracy: 0.9288 - val_loss: 0.2341 - val_accuracy: 0.9355\n",
      "Epoch 85/100\n",
      "100/100 [==============================] - 27s 273ms/step - loss: 0.1996 - accuracy: 0.9274 - val_loss: 0.2346 - val_accuracy: 0.9351\n",
      "Epoch 86/100\n",
      "100/100 [==============================] - 27s 272ms/step - loss: 0.1977 - accuracy: 0.9270 - val_loss: 0.2307 - val_accuracy: 0.9357\n",
      "Epoch 87/100\n",
      "100/100 [==============================] - 27s 272ms/step - loss: 0.1971 - accuracy: 0.9286 - val_loss: 0.2322 - val_accuracy: 0.9362\n",
      "Epoch 88/100\n",
      "100/100 [==============================] - 28s 277ms/step - loss: 0.1958 - accuracy: 0.9290 - val_loss: 0.2332 - val_accuracy: 0.9353\n",
      "Epoch 89/100\n",
      "100/100 [==============================] - 27s 271ms/step - loss: 0.1930 - accuracy: 0.9292 - val_loss: 0.2352 - val_accuracy: 0.9361\n",
      "Epoch 90/100\n",
      "100/100 [==============================] - 27s 275ms/step - loss: 0.1929 - accuracy: 0.9294 - val_loss: 0.2364 - val_accuracy: 0.9363\n",
      "Epoch 91/100\n",
      "100/100 [==============================] - 27s 273ms/step - loss: 0.1907 - accuracy: 0.9312 - val_loss: 0.2301 - val_accuracy: 0.9364\n",
      "Epoch 92/100\n",
      "100/100 [==============================] - 27s 272ms/step - loss: 0.1931 - accuracy: 0.9295 - val_loss: 0.2370 - val_accuracy: 0.9369\n",
      "Epoch 93/100\n",
      "100/100 [==============================] - 27s 271ms/step - loss: 0.1910 - accuracy: 0.9301 - val_loss: 0.2321 - val_accuracy: 0.9377\n",
      "Epoch 94/100\n",
      "100/100 [==============================] - 28s 280ms/step - loss: 0.1929 - accuracy: 0.9290 - val_loss: 0.2386 - val_accuracy: 0.9359\n",
      "Epoch 95/100\n",
      "100/100 [==============================] - 27s 272ms/step - loss: 0.1885 - accuracy: 0.9306 - val_loss: 0.2373 - val_accuracy: 0.9363\n",
      "Epoch 96/100\n",
      "100/100 [==============================] - 27s 268ms/step - loss: 0.1874 - accuracy: 0.9300 - val_loss: 0.2405 - val_accuracy: 0.9361\n",
      "Epoch 97/100\n",
      "100/100 [==============================] - 27s 269ms/step - loss: 0.1840 - accuracy: 0.9319 - val_loss: 0.2421 - val_accuracy: 0.9346\n",
      "Epoch 98/100\n",
      "100/100 [==============================] - 27s 271ms/step - loss: 0.1870 - accuracy: 0.9311 - val_loss: 0.2483 - val_accuracy: 0.9345\n",
      "Epoch 99/100\n",
      "100/100 [==============================] - 28s 278ms/step - loss: 0.1859 - accuracy: 0.9313 - val_loss: 0.2443 - val_accuracy: 0.9356\n",
      "Epoch 100/100\n",
      "100/100 [==============================] - 27s 271ms/step - loss: 0.1848 - accuracy: 0.9316 - val_loss: 0.2401 - val_accuracy: 0.9362\n"
     ]
    }
   ],
   "source": [
    "# 模型訓練\n",
    "# callback: https://ithelp.ithome.com.tw/articles/10234641\n",
    "# 自訂 callback: https://ithelp.ithome.com.tw/articles/10235293\n",
    "history = model.fit(x_train_norm, y_train, epochs=100, batch_size=1000, validation_split=0.2)"
   ]
  },
  {
   "cell_type": "code",
   "execution_count": 193,
   "metadata": {},
   "outputs": [
    {
     "data": {
      "text/plain": [
       "dict_keys(['loss', 'accuracy', 'val_loss', 'val_accuracy'])"
      ]
     },
     "execution_count": 193,
     "metadata": {},
     "output_type": "execute_result"
    }
   ],
   "source": [
    "# 檢查 history 所有鍵值\n",
    "history.history.keys()"
   ]
  },
  {
   "cell_type": "code",
   "execution_count": 194,
   "metadata": {},
   "outputs": [
    {
     "data": {
      "text/plain": [
       "<matplotlib.legend.Legend at 0x24a620e8950>"
      ]
     },
     "execution_count": 194,
     "metadata": {},
     "output_type": "execute_result"
    },
    {
     "data": {
      "image/png": "[encoded data removed]",
      "text/plain": [
       "<Figure size 800x600 with 1 Axes>"
      ]
     },
     "metadata": {},
     "output_type": "display_data"
    }
   ],
   "source": [
    "# 對訓練過程的準確率繪圖\n",
    "plt.rcParams['font.sans-serif'] = ['Microsoft JhengHei'] \n",
    "plt.rcParams['axes.unicode_minus'] = False\n",
    "\n",
    "plt.figure(figsize=(8, 6))\n",
    "plt.plot(history.history['accuracy'], 'r', label='訓練準確率')\n",
    "plt.plot(history.history['val_accuracy'], 'g', label='驗證準確率')\n",
    "plt.legend()"
   ]
  },
  {
   "cell_type": "code",
   "execution_count": 195,
   "metadata": {},
   "outputs": [
    {
     "data": {
      "text/plain": [
       "<matplotlib.legend.Legend at 0x24a04f89490>"
      ]
     },
     "execution_count": 195,
     "metadata": {},
     "output_type": "execute_result"
    },
    {
     "data": {
      "image/png": "[encoded data removed]",
      "text/plain": [
       "<Figure size 800x600 with 1 Axes>"
      ]
     },
     "metadata": {},
     "output_type": "display_data"
    }
   ],
   "source": [
    "# 對訓練過程的損失繪圖\n",
    "import matplotlib.pyplot as plt\n",
    "\n",
    "plt.figure(figsize=(8, 6))\n",
    "plt.plot(history.history['loss'], 'r', label='訓練損失')\n",
    "plt.plot(history.history['val_loss'], 'g', label='驗證損失')\n",
    "plt.legend()"
   ]
  },
  {
   "cell_type": "markdown",
   "metadata": {},
   "source": [
    "## 步驟7：評分(Score Model)"
   ]
  },
  {
   "cell_type": "code",
   "execution_count": 196,
   "metadata": {},
   "outputs": [
    {
     "name": "stdout",
     "output_type": "stream",
     "text": [
      "loss: 0.2576\n",
      "accuracy: 0.9321\n"
     ]
    }
   ],
   "source": [
    "# 評分(Score Model)\n",
    "score=model.evaluate(x_test_norm, y_test, verbose=0)\n",
    "\n",
    "for i, x in enumerate(score):\n",
    "    print(f'{model.metrics_names[i]}: {score[i]:.4f}')"
   ]
  },
  {
   "cell_type": "code",
   "execution_count": 198,
   "metadata": {},
   "outputs": [
    {
     "name": "stdout",
     "output_type": "stream",
     "text": [
      "650/650 [==============================] - 2s 3ms/step\n",
      "actual    : [0 0 0 0 0 0 0 0 0 0 0 0 0 0 0 0 0 0 0 0]\n",
      "prediction: [0 0 0 0 0 0 0 0 0 0 1 0 0 0 0 0 0 0 0 0]\n"
     ]
    }
   ],
   "source": [
    "# 實際預測 20 筆資料\n",
    "# predictions = model.predict_classes(x_test_norm)\n",
    "import numpy as np\n",
    "predictions = np.argmax(model.predict(x_test_norm), axis=-1)\n",
    "\n",
    "# 比對\n",
    "print('actual    :', y_test[0:20])\n",
    "print('prediction:', predictions[0:20])"
   ]
  },
  {
   "cell_type": "code",
   "execution_count": 199,
   "metadata": {},
   "outputs": [
    {
     "name": "stdout",
     "output_type": "stream",
     "text": [
      "1/1 [==============================] - 0s 47ms/step\n",
      "0~9預測機率: [[1. 0. 0. 0. 0. 0. 0. 0. 0. 0. 0. 0. 0. 0. 0. 0. 0. 0. 0. 0. 0. 0. 0. 0.\n",
      "  0. 0.]]\n"
     ]
    }
   ],
   "source": [
    "# 顯示第 9 筆的機率\n",
    "import numpy as np\n",
    "\n",
    "predictions = model.predict(x_test_norm[8:9])\n",
    "print(f'0~9預測機率: {np.around(predictions, 2)}')"
   ]
  },
  {
   "cell_type": "code",
   "execution_count": 200,
   "metadata": {},
   "outputs": [
    {
     "data": {
      "image/png": "[encoded data removed]",
      "text/plain": [
       "<Figure size 640x480 with 1 Axes>"
      ]
     },
     "metadata": {},
     "output_type": "display_data"
    }
   ],
   "source": [
    "# 顯示第 9 筆圖像\n",
    "X2 = x_test[8,:,:]\n",
    "plt.imshow(X2.reshape(28,28), cmap='gray')\n",
    "plt.axis('off')\n",
    "plt.show() "
   ]
  },
  {
   "cell_type": "markdown",
   "metadata": {},
   "source": [
    "## 步驟9：模型佈署"
   ]
  },
  {
   "cell_type": "code",
   "execution_count": 201,
   "metadata": {},
   "outputs": [],
   "source": [
    "# 模型存檔\n",
    "model.save('model.h5')\n",
    "# model.save('my_model.keras')\n",
    "\n",
    "# 模型載入\n",
    "# model = tf.keras.models.load_model('model.h5')\n",
    "# model = tf.keras.models.load_model('my_model.keras')"
   ]
  },
  {
   "cell_type": "code",
   "execution_count": null,
   "metadata": {},
   "outputs": [],
   "source": []
  },
  {
   "cell_type": "code",
   "execution_count": null,
   "metadata": {},
   "outputs": [],
   "source": []
  },
  {
   "cell_type": "code",
   "execution_count": null,
   "metadata": {},
   "outputs": [],
   "source": []
  },
  {
   "cell_type": "code",
   "execution_count": null,
   "metadata": {},
   "outputs": [],
   "source": []
  },
  {
   "cell_type": "code",
   "execution_count": null,
   "metadata": {},
   "outputs": [],
   "source": []
  },
  {
   "cell_type": "code",
   "execution_count": null,
   "metadata": {},
   "outputs": [],
   "source": []
  },
  {
   "cell_type": "code",
   "execution_count": null,
   "metadata": {},
   "outputs": [],
   "source": []
  },
  {
   "cell_type": "code",
   "execution_count": null,
   "metadata": {},
   "outputs": [],
   "source": []
  },
  {
   "cell_type": "code",
   "execution_count": null,
   "metadata": {},
   "outputs": [],
   "source": []
  },
  {
   "cell_type": "code",
   "execution_count": null,
   "metadata": {},
   "outputs": [],
   "source": []
  },
  {
   "cell_type": "code",
   "execution_count": null,
   "metadata": {},
   "outputs": [],
   "source": []
  },
  {
   "cell_type": "code",
   "execution_count": null,
   "metadata": {},
   "outputs": [],
   "source": []
  },
  {
   "cell_type": "code",
   "execution_count": null,
   "metadata": {},
   "outputs": [],
   "source": []
  },
  {
   "cell_type": "code",
   "execution_count": null,
   "metadata": {},
   "outputs": [],
   "source": []
  },
  {
   "cell_type": "code",
   "execution_count": null,
   "metadata": {},
   "outputs": [],
   "source": []
  },
  {
   "cell_type": "code",
   "execution_count": null,
   "metadata": {},
   "outputs": [],
   "source": [
    "\n"
   ]
  }
 ],
 "metadata": {
  "kernelspec": {
   "display_name": "Python 3 (ipykernel)",
   "language": "python",
   "name": "python3"
  },
  "language_info": {
   "codemirror_mode": {
    "name": "ipython",
    "version": 3
   },
   "file_extension": ".py",
   "mimetype": "text/x-python",
   "name": "python",
   "nbconvert_exporter": "python",
   "pygments_lexer": "ipython3",
   "version": "3.11.4"
  }
 },
 "nbformat": 4,
 "nbformat_minor": 2
}
